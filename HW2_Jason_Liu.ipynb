{
 "cells": [
  {
   "cell_type": "markdown",
   "metadata": {},
   "source": [
    "# Stats 21 - HW 2"
   ]
  },
  {
   "cell_type": "markdown",
   "metadata": {},
   "source": [
    "The questions have been entered into this document. You will modify the document by entering your code.\n",
    "\n",
    "Make sure you run the cell so the requested output is visible. Download the finished document as a PDF file. If you are unable to convert it to a PDF, you can download it as an HTML file and then print to PDF.\n",
    "\n",
    "**Homework is an opportunity to practice coding and to practice problem solving. Doing exercises is where you will do most of your learning.**\n",
    "\n",
    "**Copying someone else's solutions takes away your learning opportunities. It is also academic dishonesty.**"
   ]
  },
  {
   "cell_type": "markdown",
   "metadata": {},
   "source": [
    "## Reading\n",
    "\n",
    "- Think Python: Chapters 6 through 10\n",
    "\n",
    "**Reading is important!** Keep up with the reading. I recommend alternating between reading a chapter and then working on exercises.\n",
    "\n",
    "Additional recommended reading:\n",
    "\n",
    "- String methods documentation https://docs.python.org/3/library/stdtypes.html#string-methods"
   ]
  },
  {
   "cell_type": "markdown",
   "metadata": {},
   "source": [
    "## Textbook Chapter 5 Problems"
   ]
  },
  {
   "cell_type": "markdown",
   "metadata": {},
   "source": [
    "## Exercise 5.1"
   ]
  },
  {
   "cell_type": "code",
   "execution_count": 242,
   "metadata": {},
   "outputs": [],
   "source": [
    "import time"
   ]
  },
  {
   "cell_type": "code",
   "execution_count": 243,
   "metadata": {},
   "outputs": [
    {
     "data": {
      "text/plain": [
       "1698099357.6396122"
      ]
     },
     "execution_count": 243,
     "metadata": {},
     "output_type": "execute_result"
    }
   ],
   "source": [
    "time.time()"
   ]
  },
  {
   "cell_type": "markdown",
   "metadata": {},
   "source": [
    "Write a function `now()` that reads the current time and prints out the time of day in hours, minutes, and\n",
    "seconds, plus the number of days since the epoch. The function does not need to return a value, just print output to the screen.\n",
    "\n",
    "The result should look like:\n",
    "\n",
    "\"Current time is: 15:25:47. It has been 18370 days since the epoch.\"\n",
    "\n",
    "Use `int()` to drop decimal values. You do not need to try to find the date with years and months.\n",
    "\n",
    "Tip: build your function incrementally. Start by finding how many days have passed since the epoch. (check your answer at the bottom of the page: https://www.epochconverter.com/seconds-days-since-y0 )  From there find how many hours, etc. Keep in mind the hours will be UTC time."
   ]
  },
  {
   "cell_type": "code",
   "execution_count": 244,
   "metadata": {},
   "outputs": [],
   "source": [
    "def now():\n",
    "    seconds = time.time()\n",
    "    days = seconds // 86400; seconds = seconds % 86400\n",
    "    hours = seconds // 3600; seconds = seconds % 3600\n",
    "    minutes = seconds // 60; seconds = seconds % 60 // 1\n",
    "    print(f\"Current time is %02d:%02d:%02d. It had been %d days since the epoch.\" % (hours, minutes, seconds, days))"
   ]
  },
  {
   "cell_type": "code",
   "execution_count": 245,
   "metadata": {},
   "outputs": [
    {
     "name": "stdout",
     "output_type": "stream",
     "text": [
      "Current time is 22:15:57. It had been 19653 days since the epoch.\n"
     ]
    }
   ],
   "source": [
    "now()"
   ]
  },
  {
   "cell_type": "markdown",
   "metadata": {},
   "source": [
    "## Textbook Chapter 6 Problems"
   ]
  },
  {
   "cell_type": "markdown",
   "metadata": {},
   "source": [
    "## Exercise 6.2\n",
    "\n",
    "The Ackermann function, A(m, n), is deﬁned:\n",
    "\n",
    "$$\n",
    "A(m, n)= \\left \\{                 \n",
    "    \\begin{array}{ll}\n",
    "        n+1 & \\text{if } m = 0\\\\\n",
    "        A(m-1, 1) & \\text{if } m > 0 \\text{ and } n = 0\\\\\n",
    "        A(m-1, A(m, n-1)) & \\text{if } m > 0 \\text{ and } n > 0\\\\\n",
    "    \\end{array}\n",
    " \\right.\n",
    "$$\n",
    "\n",
    "\n",
    "See http://en.wikipedia.org/wiki/Ackermann_function . Write a function named `ack` that evaluates the Ackermann function. Use your function to evaluate a few test cases. Don't test with $m \\ge 4$ as it grows very fast very quickly."
   ]
  },
  {
   "cell_type": "code",
   "execution_count": 246,
   "metadata": {},
   "outputs": [],
   "source": [
    "def ack(m,n):\n",
    "    if m == 0:\n",
    "        return n + 1\n",
    "    elif m > 0 and n == 0:\n",
    "        return ack(m - 1, 1)\n",
    "    elif m > 0 and n > 0:\n",
    "        return ack(m - 1, ack(m, n - 1))"
   ]
  },
  {
   "cell_type": "code",
   "execution_count": 247,
   "metadata": {},
   "outputs": [
    {
     "data": {
      "text/plain": [
       "61"
      ]
     },
     "execution_count": 247,
     "metadata": {},
     "output_type": "execute_result"
    }
   ],
   "source": [
    "# test case, should be 61\n",
    "ack(3, 3)"
   ]
  },
  {
   "cell_type": "code",
   "execution_count": 248,
   "metadata": {},
   "outputs": [
    {
     "data": {
      "text/plain": [
       "125"
      ]
     },
     "execution_count": 248,
     "metadata": {},
     "output_type": "execute_result"
    }
   ],
   "source": [
    "# test case, should be 125\n",
    "ack(3, 4)"
   ]
  },
  {
   "cell_type": "markdown",
   "metadata": {},
   "source": [
    "## Exercise 6.4\n",
    "\n",
    "A number, `a`, is a power of `b` if it is divisible by `b` and `a/b` is a power of `b`. Write a function called `is_power` that takes parameters `a` and `b` and returns `True` if a is a power of b. Note: you will have to think about the base case."
   ]
  },
  {
   "cell_type": "code",
   "execution_count": 249,
   "metadata": {},
   "outputs": [],
   "source": [
    "def is_power(a, b):\n",
    "    return a == b or (a % b == 0 and is_power(a / b, b))"
   ]
  },
  {
   "cell_type": "code",
   "execution_count": 250,
   "metadata": {},
   "outputs": [
    {
     "data": {
      "text/plain": [
       "True"
      ]
     },
     "execution_count": 250,
     "metadata": {},
     "output_type": "execute_result"
    }
   ],
   "source": [
    "is_power(1024, 2)"
   ]
  },
  {
   "cell_type": "code",
   "execution_count": 251,
   "metadata": {},
   "outputs": [
    {
     "data": {
      "text/plain": [
       "True"
      ]
     },
     "execution_count": 251,
     "metadata": {},
     "output_type": "execute_result"
    }
   ],
   "source": [
    "is_power(6561, 3)"
   ]
  },
  {
   "cell_type": "code",
   "execution_count": 252,
   "metadata": {},
   "outputs": [
    {
     "data": {
      "text/plain": [
       "False"
      ]
     },
     "execution_count": 252,
     "metadata": {},
     "output_type": "execute_result"
    }
   ],
   "source": [
    "is_power(4374, 3)"
   ]
  },
  {
   "cell_type": "code",
   "execution_count": 253,
   "metadata": {},
   "outputs": [
    {
     "data": {
      "text/plain": [
       "False"
      ]
     },
     "execution_count": 253,
     "metadata": {},
     "output_type": "execute_result"
    }
   ],
   "source": [
    "is_power(768, 2)"
   ]
  },
  {
   "cell_type": "markdown",
   "metadata": {},
   "source": [
    "## Exercise 6.5\n",
    "\n",
    "The greatest common divisor (GCD) of a and b is the largest number that divides both of them with no remainder.\n",
    "\n",
    "One way to ﬁnd the GCD of two numbers is based on the observation that if `r` is the remainder when `a` is divided by `b`, then `gcd(a, b) = gcd(b, r)`.\n",
    "\n",
    "As a base case, we can use `gcd(a, 0) = a`.\n",
    "\n",
    "Write a function called `gcd` that takes parameters `a` and `b` and returns their greatest common divisor."
   ]
  },
  {
   "cell_type": "code",
   "execution_count": 254,
   "metadata": {},
   "outputs": [],
   "source": [
    "def gcd(a, b):\n",
    "    if b == 0:\n",
    "        return a\n",
    "    else:\n",
    "        return gcd(b, a % b)"
   ]
  },
  {
   "cell_type": "code",
   "execution_count": 255,
   "metadata": {},
   "outputs": [
    {
     "data": {
      "text/plain": [
       "7"
      ]
     },
     "execution_count": 255,
     "metadata": {},
     "output_type": "execute_result"
    }
   ],
   "source": [
    "gcd(21, 7)"
   ]
  },
  {
   "cell_type": "code",
   "execution_count": 256,
   "metadata": {},
   "outputs": [
    {
     "data": {
      "text/plain": [
       "14"
      ]
     },
     "execution_count": 256,
     "metadata": {},
     "output_type": "execute_result"
    }
   ],
   "source": [
    "gcd(42, 28)"
   ]
  },
  {
   "cell_type": "code",
   "execution_count": 257,
   "metadata": {},
   "outputs": [
    {
     "data": {
      "text/plain": [
       "35"
      ]
     },
     "execution_count": 257,
     "metadata": {},
     "output_type": "execute_result"
    }
   ],
   "source": [
    "gcd(105, 140)"
   ]
  },
  {
   "cell_type": "markdown",
   "metadata": {},
   "source": [
    "## Textbook Chapter 7 Problems"
   ]
  },
  {
   "cell_type": "markdown",
   "metadata": {},
   "source": [
    "## Exercise 7.1\n",
    "\n",
    "Copy the loop from Section 7.5 on square roots and encapsulate it into a function called `mysqrt()` that takes `a` as a parameter. For a starting value `x` use `a/2`. It then iterates through the code to estimate the square root of a value.\n",
    "\n",
    "Write another function called `test_square_root(start, end)` that will print out a table as shown in the textbook."
   ]
  },
  {
   "cell_type": "code",
   "execution_count": 258,
   "metadata": {},
   "outputs": [],
   "source": [
    "# write your code here\n",
    "def mysqrt(a):\n",
    "    x = a / 2\n",
    "    while True:\n",
    "        y = (x + a/x) / 2\n",
    "        if y == x:\n",
    "            return x\n",
    "        x = y\n",
    "\n",
    "\n",
    "import math\n",
    "def test_square_root(start, end):\n",
    "    print(\"a   mysqrt(a)     math.sqrt(a)  diff \\n-   ---------     ------------  ----\")\n",
    "    for a in range(int(start), int(end) + 1):\n",
    "        print(f\"%.1f %.11f %.11f %.12g\" % (float(a), mysqrt(a), math.sqrt(a), abs(mysqrt(a) - math.sqrt(a))))"
   ]
  },
  {
   "cell_type": "code",
   "execution_count": 259,
   "metadata": {
    "tags": [
     "raises-exception"
    ]
   },
   "outputs": [
    {
     "name": "stdout",
     "output_type": "stream",
     "text": [
      "a   mysqrt(a)     math.sqrt(a)  diff \n",
      "-   ---------     ------------  ----\n",
      "1.0 1.00000000000 1.00000000000 0\n",
      "2.0 1.41421356237 1.41421356237 2.22044604925e-16\n",
      "3.0 1.73205080757 1.73205080757 0\n",
      "4.0 2.00000000000 2.00000000000 0\n",
      "5.0 2.23606797750 2.23606797750 0\n",
      "6.0 2.44948974278 2.44948974278 0\n",
      "7.0 2.64575131106 2.64575131106 0\n",
      "8.0 2.82842712475 2.82842712475 4.4408920985e-16\n",
      "9.0 3.00000000000 3.00000000000 0\n"
     ]
    }
   ],
   "source": [
    "# test code, do not modify:\n",
    "test_square_root(1.0, 9.0)"
   ]
  },
  {
   "cell_type": "code",
   "execution_count": 260,
   "metadata": {
    "tags": [
     "raises-exception"
    ]
   },
   "outputs": [
    {
     "name": "stdout",
     "output_type": "stream",
     "text": [
      "a   mysqrt(a)     math.sqrt(a)  diff \n",
      "-   ---------     ------------  ----\n",
      "30.0 5.47722557505 5.47722557505 0\n",
      "31.0 5.56776436283 5.56776436283 8.881784197e-16\n",
      "32.0 5.65685424949 5.65685424949 8.881784197e-16\n",
      "33.0 5.74456264654 5.74456264654 0\n",
      "34.0 5.83095189485 5.83095189485 0\n",
      "35.0 5.91607978310 5.91607978310 0\n"
     ]
    }
   ],
   "source": [
    "test_square_root(30, 35)"
   ]
  },
  {
   "cell_type": "markdown",
   "metadata": {},
   "source": [
    "## Textbook Chapter 9 Problems"
   ]
  },
  {
   "cell_type": "markdown",
   "metadata": {},
   "source": [
    "## Exercise 9.1\n",
    "\n",
    "Download this list of words: http://thinkpython2.com/code/words.txt\n",
    "\n",
    "Write and run a script that reads `words.txt` and prints out only the words with more than 20\n",
    "characters (after stripping whitespace)."
   ]
  },
  {
   "cell_type": "code",
   "execution_count": 261,
   "metadata": {},
   "outputs": [
    {
     "name": "stdout",
     "output_type": "stream",
     "text": [
      "counterdemonstrations\n",
      "\n",
      "hyperaggressivenesses\n",
      "\n",
      "microminiaturizations\n",
      "\n"
     ]
    }
   ],
   "source": [
    "fin = open(\"words.txt\")\n",
    "for line in fin:\n",
    "    if len(line.strip()) > 20:\n",
    "        print(line)"
   ]
  },
  {
   "cell_type": "markdown",
   "metadata": {},
   "source": [
    "## Exercise 9.2\n",
    "\n",
    "Write a function called `has_no_e` that returns True if the word doesn't have the letter e. You can use any of Pythons availble string methods."
   ]
  },
  {
   "cell_type": "code",
   "execution_count": 262,
   "metadata": {},
   "outputs": [],
   "source": [
    "def has_no_e(text):\n",
    "    return text.find('e') == -1"
   ]
  },
  {
   "cell_type": "code",
   "execution_count": 263,
   "metadata": {},
   "outputs": [
    {
     "data": {
      "text/plain": [
       "False"
      ]
     },
     "execution_count": 263,
     "metadata": {},
     "output_type": "execute_result"
    }
   ],
   "source": [
    "has_no_e(\"hello\")"
   ]
  },
  {
   "cell_type": "code",
   "execution_count": 264,
   "metadata": {},
   "outputs": [
    {
     "data": {
      "text/plain": [
       "True"
      ]
     },
     "execution_count": 264,
     "metadata": {},
     "output_type": "execute_result"
    }
   ],
   "source": [
    "has_no_e(\"quit\")"
   ]
  },
  {
   "cell_type": "markdown",
   "metadata": {},
   "source": [
    "With your function, write a script. The script should read the list of words (`words.txt`), print out the number of words that do not have the letter 'e' and the proportion of words that do not have the letter 'e'"
   ]
  },
  {
   "cell_type": "code",
   "execution_count": 265,
   "metadata": {},
   "outputs": [
    {
     "name": "stdout",
     "output_type": "stream",
     "text": [
      "37641\n"
     ]
    }
   ],
   "source": [
    "fin = open(\"words.txt\")\n",
    "count = 0\n",
    "for word in fin:\n",
    "    count += has_no_e(word)\n",
    "print(count)"
   ]
  },
  {
   "cell_type": "markdown",
   "metadata": {},
   "source": [
    "## Textbook Chapter 10 Problems"
   ]
  },
  {
   "cell_type": "markdown",
   "metadata": {},
   "source": [
    "## Exercise 10.1\n",
    "\n",
    "Write a function called `nested_sum` that takes a list of lists of integers and adds up\n",
    "the elements from all of the nested lists. For example:\n",
    "```\n",
    "t = [[1, 2], [3], [4, 5, 6]]\n",
    "nested_sum(t)\n",
    "21\n",
    "```\n",
    "You may want to build the function recursively in case there are many levels of nested lists.\n",
    "\n",
    "You can assume that all elements in any of the nested lists are numeric."
   ]
  },
  {
   "cell_type": "code",
   "execution_count": 266,
   "metadata": {},
   "outputs": [],
   "source": [
    "def nested_sum(t):\n",
    "    sum = 0\n",
    "    for item in t:\n",
    "        if isinstance(item, list):\n",
    "            sum += nested_sum(item)\n",
    "        else:\n",
    "            sum += item\n",
    "    return sum"
   ]
  },
  {
   "cell_type": "code",
   "execution_count": 267,
   "metadata": {},
   "outputs": [
    {
     "data": {
      "text/plain": [
       "3"
      ]
     },
     "execution_count": 267,
     "metadata": {},
     "output_type": "execute_result"
    }
   ],
   "source": [
    "t = [1, 2]\n",
    "nested_sum(t)"
   ]
  },
  {
   "cell_type": "code",
   "execution_count": 268,
   "metadata": {},
   "outputs": [
    {
     "data": {
      "text/plain": [
       "21"
      ]
     },
     "execution_count": 268,
     "metadata": {},
     "output_type": "execute_result"
    }
   ],
   "source": [
    "t = [[1, 2], [3], [4, 5, 6]]\n",
    "nested_sum(t)"
   ]
  },
  {
   "cell_type": "code",
   "execution_count": 269,
   "metadata": {},
   "outputs": [
    {
     "data": {
      "text/plain": [
       "36"
      ]
     },
     "execution_count": 269,
     "metadata": {},
     "output_type": "execute_result"
    }
   ],
   "source": [
    "x = [[1, 2, [3]], 4, 5, 6, [7], 8]\n",
    "nested_sum(x)"
   ]
  },
  {
   "cell_type": "code",
   "execution_count": 270,
   "metadata": {},
   "outputs": [
    {
     "data": {
      "text/plain": [
       "36"
      ]
     },
     "execution_count": 270,
     "metadata": {},
     "output_type": "execute_result"
    }
   ],
   "source": [
    "t = [[[1, 2, [3]], [4, [5, 6, [7]], 8]]]\n",
    "nested_sum(t)"
   ]
  },
  {
   "cell_type": "markdown",
   "metadata": {},
   "source": [
    "## Exercise 10.2\n",
    "\n",
    "Write a function called `cumsum` that takes a list of numbers and returns the cumulative sum; that is, a new list where the ith element is the sum of the first i + 1 elements from the original list. \n",
    "\n",
    "For example:\n",
    "```\n",
    "t = [1, 2, 3]\n",
    "cumsum(t)\n",
    "[1, 3, 6]\n",
    "```\n",
    "\n",
    "You can assume that all elements in the lists are numeric and the list does not contain nested lists."
   ]
  },
  {
   "cell_type": "code",
   "execution_count": 271,
   "metadata": {},
   "outputs": [],
   "source": [
    "def cumsum(t):\n",
    "    cum = []\n",
    "    for i in range(len(t)):\n",
    "        next = 0\n",
    "        for j in range(i + 1):\n",
    "            next += t[j]\n",
    "        cum.append(next)\n",
    "    return cum"
   ]
  },
  {
   "cell_type": "code",
   "execution_count": 272,
   "metadata": {},
   "outputs": [
    {
     "data": {
      "text/plain": [
       "[1, 3, 6, 10]"
      ]
     },
     "execution_count": 272,
     "metadata": {},
     "output_type": "execute_result"
    }
   ],
   "source": [
    "cumsum([1, 2, 3, 4])"
   ]
  },
  {
   "cell_type": "code",
   "execution_count": 273,
   "metadata": {},
   "outputs": [
    {
     "data": {
      "text/plain": [
       "[0, 1, 3, 6, 10, 15, 21, 28, 36, 45, 55, 66]"
      ]
     },
     "execution_count": 273,
     "metadata": {},
     "output_type": "execute_result"
    }
   ],
   "source": [
    "cumsum(range(12))"
   ]
  },
  {
   "cell_type": "markdown",
   "metadata": {},
   "source": [
    "## Exercise 10.6\n",
    "\n",
    "Two words are anagrams if you can rearrange the letters from one to spell the other. Write a function called `is_anagram` that takes two strings and returns `True` if they are anagrams.\n",
    "\n",
    "You can remove spaces and convert to lowercase using `string.replace(\" \",\"\").lower()`"
   ]
  },
  {
   "cell_type": "code",
   "execution_count": 274,
   "metadata": {},
   "outputs": [],
   "source": [
    "def is_anagram(word1, word2):\n",
    "    word1 = list(word1.replace(\" \",\"\").lower()) ; word2 = list(word2.replace(\" \",\"\").lower())\n",
    "    word1.sort(); word2.sort()\n",
    "    return word1 == word2"
   ]
  },
  {
   "cell_type": "code",
   "execution_count": 275,
   "metadata": {},
   "outputs": [
    {
     "data": {
      "text/plain": [
       "True"
      ]
     },
     "execution_count": 275,
     "metadata": {},
     "output_type": "execute_result"
    }
   ],
   "source": [
    "is_anagram(\"hello\", \"o hell\")"
   ]
  },
  {
   "cell_type": "code",
   "execution_count": 276,
   "metadata": {},
   "outputs": [
    {
     "data": {
      "text/plain": [
       "True"
      ]
     },
     "execution_count": 276,
     "metadata": {},
     "output_type": "execute_result"
    }
   ],
   "source": [
    "is_anagram(\"dormitory\" , \"dirty room\")"
   ]
  },
  {
   "cell_type": "code",
   "execution_count": 277,
   "metadata": {},
   "outputs": [
    {
     "data": {
      "text/plain": [
       "False"
      ]
     },
     "execution_count": 277,
     "metadata": {},
     "output_type": "execute_result"
    }
   ],
   "source": [
    "is_anagram(\"dormitory\" , \"dirty rooms\")"
   ]
  },
  {
   "cell_type": "code",
   "execution_count": 278,
   "metadata": {},
   "outputs": [
    {
     "data": {
      "text/plain": [
       "True"
      ]
     },
     "execution_count": 278,
     "metadata": {},
     "output_type": "execute_result"
    }
   ],
   "source": [
    "is_anagram(\"astronomers\" , \"moon starers\")"
   ]
  },
  {
   "cell_type": "markdown",
   "metadata": {},
   "source": [
    "## Exercise 10.7\n",
    "\n",
    "Write a function called `has_duplicates` that takes a list and returns `True` if there is any element that appears more than once. It should not modify the original list.\n",
    "\n",
    "You can assume that the list will not have nested lists."
   ]
  },
  {
   "cell_type": "code",
   "execution_count": 279,
   "metadata": {},
   "outputs": [],
   "source": [
    "def has_duplicates(t):\n",
    "    for i in range(len(t)):\n",
    "        for j in range(i):\n",
    "            if t[j] == t[i]:\n",
    "                return True\n",
    "    return False        "
   ]
  },
  {
   "cell_type": "code",
   "execution_count": 280,
   "metadata": {},
   "outputs": [
    {
     "data": {
      "text/plain": [
       "False"
      ]
     },
     "execution_count": 280,
     "metadata": {},
     "output_type": "execute_result"
    }
   ],
   "source": [
    "has_duplicates(['a','b','c'])"
   ]
  },
  {
   "cell_type": "code",
   "execution_count": 281,
   "metadata": {},
   "outputs": [
    {
     "data": {
      "text/plain": [
       "True"
      ]
     },
     "execution_count": 281,
     "metadata": {},
     "output_type": "execute_result"
    }
   ],
   "source": [
    "has_duplicates(['a','b','b','c'])"
   ]
  },
  {
   "cell_type": "code",
   "execution_count": 282,
   "metadata": {},
   "outputs": [
    {
     "data": {
      "text/plain": [
       "True"
      ]
     },
     "execution_count": 282,
     "metadata": {},
     "output_type": "execute_result"
    }
   ],
   "source": [
    "has_duplicates(['a','b','c','a'])"
   ]
  },
  {
   "cell_type": "markdown",
   "metadata": {},
   "source": [
    "## Exercise 10.10\n",
    "\n",
    "To check whether a word is in the word list, you could use the in operator, but it would be slow because it searches through the words in order.\n",
    "\n",
    "Because the words are in alphabetical order, we can speed things up with a bisection search (also known as binary search). You start in the middle and check to see whether the word you are looking for comes before the word in the middle of the list. If so, you search the first half of the list the same way (perform a bisection search on the first half). Otherwise you search the second half.\n",
    "\n",
    "Either way, you cut the remaining search space in half. If the word list has 113,809 words, it will\n",
    "take about 17 steps to find the word or conclude that it's not there. \n",
    "\n",
    "Write a function called `in_bisect` that takes a sorted list and a target word and will returns `True` if the word is in the list and `False` if it's not.\n",
    "\n",
    "Hint: it's a recursive function."
   ]
  },
  {
   "cell_type": "code",
   "execution_count": 283,
   "metadata": {},
   "outputs": [],
   "source": [
    "# Use this function. No need to rewrite it.\n",
    "def make_word_list():\n",
    "    \"\"\"Reads lines from a file and builds a list.\"\"\"\n",
    "    t = []\n",
    "    fin = open('words.txt')\n",
    "    for line in fin:\n",
    "        word = line.strip()\n",
    "        t.append(word)\n",
    "    return t\n",
    "\n",
    "t = make_word_list()"
   ]
  },
  {
   "cell_type": "code",
   "execution_count": 284,
   "metadata": {},
   "outputs": [],
   "source": [
    "# define this function\n",
    "def in_bisect(word_list, word):\n",
    "    if len(word_list) == 1:\n",
    "        return word_list[0] == word\n",
    "    split = int(len(word_list) / 2)\n",
    "    return in_bisect(word_list[:split], word) or in_bisect(word_list[split:], word)"
   ]
  },
  {
   "cell_type": "code",
   "execution_count": 285,
   "metadata": {},
   "outputs": [
    {
     "data": {
      "text/plain": [
       "True"
      ]
     },
     "execution_count": 285,
     "metadata": {},
     "output_type": "execute_result"
    }
   ],
   "source": [
    "in_bisect(t, \"hello\")"
   ]
  },
  {
   "cell_type": "code",
   "execution_count": 286,
   "metadata": {},
   "outputs": [
    {
     "data": {
      "text/plain": [
       "False"
      ]
     },
     "execution_count": 286,
     "metadata": {},
     "output_type": "execute_result"
    }
   ],
   "source": [
    "in_bisect(t, \"xyz\")"
   ]
  },
  {
   "cell_type": "markdown",
   "metadata": {},
   "source": [
    "## Exercise 10.11\n",
    "\n",
    "Two words are a \"reverse pair\" if each is the reverse of the other.\n",
    "\n",
    "Now that you have the `in_bisect` search, write a script that ﬁnds all the reverse pairs in the word list that are 6 letters or longer. (It takes a little bit of time to run.)"
   ]
  },
  {
   "cell_type": "code",
   "execution_count": 287,
   "metadata": {},
   "outputs": [
    {
     "name": "stdout",
     "output_type": "stream",
     "text": [
      "agenes :: senega\n",
      "animal :: lamina\n",
      "animes :: semina\n",
      "degami :: imaged\n",
      "deified :: deified\n",
      "deifier :: reified\n",
      "deliver :: reviled\n",
      "denier :: reined\n",
      "denies :: seined\n",
      "denned :: denned\n",
      "depots :: stoped\n",
      "derats :: stared\n",
      "dessert :: tressed\n",
      "desserts :: stressed\n",
      "dewans :: snawed\n",
      "dialer :: relaid\n",
      "diaper :: repaid\n",
      "dormin :: nimrod\n",
      "drawer :: reward\n",
      "elides :: sedile\n",
      "eviler :: relive\n",
      "gelder :: redleg\n",
      "halalah :: halalah\n",
      "hallah :: hallah\n",
      "imaged :: degami\n",
      "lamina :: animal\n",
      "levins :: snivel\n",
      "looter :: retool\n",
      "marram :: marram\n",
      "nimrod :: dormin\n",
      "pupils :: slipup\n",
      "recaps :: spacer\n",
      "redder :: redder\n",
      "redips :: spider\n",
      "redleg :: gelder\n",
      "redraw :: warder\n",
      "redrawer :: rewarder\n",
      "reflet :: telfer\n",
      "reflow :: wolfer\n",
      "reified :: deifier\n",
      "reifier :: reifier\n",
      "reined :: denier\n",
      "reknit :: tinker\n",
      "reknits :: stinker\n",
      "relaid :: dialer\n",
      "relive :: eviler\n",
      "remeet :: teemer\n",
      "rennet :: tenner\n",
      "repaid :: diaper\n",
      "repaper :: repaper\n",
      "repins :: sniper\n",
      "retool :: looter\n",
      "reviled :: deliver\n",
      "reviver :: reviver\n",
      "reward :: drawer\n",
      "rewarder :: redrawer\n",
      "rotator :: rotator\n",
      "sallets :: stellas\n",
      "scares :: seracs\n",
      "secret :: terces\n",
      "sedile :: elides\n",
      "seined :: denies\n",
      "selahs :: shales\n",
      "selles :: selles\n",
      "sememes :: sememes\n",
      "semina :: animes\n",
      "senega :: agenes\n",
      "seracs :: scares\n",
      "shales :: selahs\n",
      "skeets :: steeks\n",
      "sleeps :: speels\n",
      "sleets :: steels\n",
      "slipup :: pupils\n",
      "sloops :: spools\n",
      "snawed :: dewans\n",
      "sniper :: repins\n",
      "snivel :: levins\n",
      "snoops :: spoons\n",
      "spacer :: recaps\n",
      "speels :: sleeps\n",
      "spider :: redips\n",
      "spirts :: strips\n",
      "spools :: sloops\n",
      "spoons :: snoops\n",
      "sports :: strops\n",
      "sprits :: stirps\n",
      "stared :: derats\n",
      "steeks :: skeets\n",
      "steels :: sleets\n",
      "stellas :: sallets\n",
      "stinker :: reknits\n",
      "stirps :: sprits\n",
      "stoped :: depots\n",
      "stressed :: desserts\n",
      "strips :: spirts\n",
      "strops :: sports\n",
      "struts :: sturts\n",
      "sturts :: struts\n",
      "teemer :: remeet\n",
      "telfer :: reflet\n",
      "tenner :: rennet\n",
      "terces :: secret\n",
      "terret :: terret\n",
      "tinker :: reknit\n",
      "tressed :: dessert\n",
      "warder :: redraw\n",
      "wolfer :: reflow\n"
     ]
    }
   ],
   "source": [
    "words = []\n",
    "for word in t:\n",
    "    if len(word) >= 6:\n",
    "        words.append(word)\n",
    "\n",
    "for word in words:\n",
    "    if in_bisect(words, word[::-1]):\n",
    "        print(str(word) + \" :: \" + str(word[::-1]))"
   ]
  }
 ],
 "metadata": {
  "kernelspec": {
   "display_name": "Python 3 (ipykernel)",
   "language": "python",
   "name": "python3"
  },
  "language_info": {
   "codemirror_mode": {
    "name": "ipython",
    "version": 3
   },
   "file_extension": ".py",
   "mimetype": "text/x-python",
   "name": "python",
   "nbconvert_exporter": "python",
   "pygments_lexer": "ipython3",
   "version": "3.11.5"
  }
 },
 "nbformat": 4,
 "nbformat_minor": 4
}
