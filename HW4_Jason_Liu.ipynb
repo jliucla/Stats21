{
 "cells": [
  {
   "cell_type": "markdown",
   "metadata": {},
   "source": [
    "# HW4: Occupation Dataset"
   ]
  },
  {
   "cell_type": "markdown",
   "metadata": {},
   "source": [
    "### Introduction:\n",
    "\n",
    "Special thanks to: https://github.com/guipsamora for sharing his datasets, materials, and questions.\n",
    "\n",
    "- https://github.com/justmarkham for sharing the dataset and materials.\n"
   ]
  },
  {
   "cell_type": "code",
   "execution_count": 1,
   "metadata": {
    "tags": []
   },
   "outputs": [],
   "source": [
    "### Import the necessary libraries\n",
    "import pandas as pd\n",
    "import matplotlib.pyplot as plt"
   ]
  },
  {
   "cell_type": "code",
   "execution_count": 2,
   "metadata": {
    "tags": []
   },
   "outputs": [],
   "source": [
    "### I believe the following data set is from the US in the 1950s.\n",
    "### Gender proportions and ages are thus reflective of that era.\n",
    "### Import the dataset from this address. https://raw.githubusercontent.com/justmarkham/DAT8/master/data/u.user\n",
    "### Assign it to a variable called users and use the 'user_id' as index\n",
    "users = pd.read_csv('https://raw.githubusercontent.com/justmarkham/DAT8/master/data/u.user', \n",
    "                      sep='|', index_col='user_id')"
   ]
  },
  {
   "cell_type": "code",
   "execution_count": 3,
   "metadata": {
    "tags": []
   },
   "outputs": [
    {
     "data": {
      "text/html": [
       "<div>\n",
       "<style scoped>\n",
       "    .dataframe tbody tr th:only-of-type {\n",
       "        vertical-align: middle;\n",
       "    }\n",
       "\n",
       "    .dataframe tbody tr th {\n",
       "        vertical-align: top;\n",
       "    }\n",
       "\n",
       "    .dataframe thead th {\n",
       "        text-align: right;\n",
       "    }\n",
       "</style>\n",
       "<table border=\"1\" class=\"dataframe\">\n",
       "  <thead>\n",
       "    <tr style=\"text-align: right;\">\n",
       "      <th></th>\n",
       "      <th>age</th>\n",
       "      <th>gender</th>\n",
       "      <th>occupation</th>\n",
       "      <th>zip_code</th>\n",
       "    </tr>\n",
       "    <tr>\n",
       "      <th>user_id</th>\n",
       "      <th></th>\n",
       "      <th></th>\n",
       "      <th></th>\n",
       "      <th></th>\n",
       "    </tr>\n",
       "  </thead>\n",
       "  <tbody>\n",
       "    <tr>\n",
       "      <th>1</th>\n",
       "      <td>24</td>\n",
       "      <td>M</td>\n",
       "      <td>technician</td>\n",
       "      <td>85711</td>\n",
       "    </tr>\n",
       "    <tr>\n",
       "      <th>2</th>\n",
       "      <td>53</td>\n",
       "      <td>F</td>\n",
       "      <td>other</td>\n",
       "      <td>94043</td>\n",
       "    </tr>\n",
       "    <tr>\n",
       "      <th>3</th>\n",
       "      <td>23</td>\n",
       "      <td>M</td>\n",
       "      <td>writer</td>\n",
       "      <td>32067</td>\n",
       "    </tr>\n",
       "    <tr>\n",
       "      <th>4</th>\n",
       "      <td>24</td>\n",
       "      <td>M</td>\n",
       "      <td>technician</td>\n",
       "      <td>43537</td>\n",
       "    </tr>\n",
       "    <tr>\n",
       "      <th>5</th>\n",
       "      <td>33</td>\n",
       "      <td>F</td>\n",
       "      <td>other</td>\n",
       "      <td>15213</td>\n",
       "    </tr>\n",
       "    <tr>\n",
       "      <th>6</th>\n",
       "      <td>42</td>\n",
       "      <td>M</td>\n",
       "      <td>executive</td>\n",
       "      <td>98101</td>\n",
       "    </tr>\n",
       "    <tr>\n",
       "      <th>7</th>\n",
       "      <td>57</td>\n",
       "      <td>M</td>\n",
       "      <td>administrator</td>\n",
       "      <td>91344</td>\n",
       "    </tr>\n",
       "    <tr>\n",
       "      <th>8</th>\n",
       "      <td>36</td>\n",
       "      <td>M</td>\n",
       "      <td>administrator</td>\n",
       "      <td>05201</td>\n",
       "    </tr>\n",
       "    <tr>\n",
       "      <th>9</th>\n",
       "      <td>29</td>\n",
       "      <td>M</td>\n",
       "      <td>student</td>\n",
       "      <td>01002</td>\n",
       "    </tr>\n",
       "    <tr>\n",
       "      <th>10</th>\n",
       "      <td>53</td>\n",
       "      <td>M</td>\n",
       "      <td>lawyer</td>\n",
       "      <td>90703</td>\n",
       "    </tr>\n",
       "  </tbody>\n",
       "</table>\n",
       "</div>"
      ],
      "text/plain": [
       "         age gender     occupation zip_code\n",
       "user_id                                    \n",
       "1         24      M     technician    85711\n",
       "2         53      F          other    94043\n",
       "3         23      M         writer    32067\n",
       "4         24      M     technician    43537\n",
       "5         33      F          other    15213\n",
       "6         42      M      executive    98101\n",
       "7         57      M  administrator    91344\n",
       "8         36      M  administrator    05201\n",
       "9         29      M        student    01002\n",
       "10        53      M         lawyer    90703"
      ]
     },
     "execution_count": 3,
     "metadata": {},
     "output_type": "execute_result"
    }
   ],
   "source": [
    "# Problem 1. See the first 10 entries. (done for you)\n",
    "users.head(10)"
   ]
  },
  {
   "cell_type": "code",
   "execution_count": 4,
   "metadata": {
    "tags": []
   },
   "outputs": [
    {
     "name": "stdout",
     "output_type": "stream",
     "text": [
      "943 Observations, 4 Columns\n"
     ]
    }
   ],
   "source": [
    "# Problem 2. How many observations and columns are in the data?\n",
    "print(\"{0} Observations, {1} Columns\".format(len(users.index), len(users.columns)))"
   ]
  },
  {
   "cell_type": "code",
   "execution_count": 5,
   "metadata": {
    "tags": []
   },
   "outputs": [
    {
     "name": "stdout",
     "output_type": "stream",
     "text": [
      "21\n"
     ]
    }
   ],
   "source": [
    "# Problem 3. How many different occupations there are in this dataset?\n",
    "print(users['occupation'].nunique())"
   ]
  },
  {
   "cell_type": "code",
   "execution_count": 6,
   "metadata": {
    "tags": []
   },
   "outputs": [
    {
     "name": "stdout",
     "output_type": "stream",
     "text": [
      "occupation\n",
      "student    196\n",
      "Name: count, dtype: int64\n"
     ]
    }
   ],
   "source": [
    "# Problem 4. What is the most frequent occupation?\n",
    "print(users['occupation'].value_counts().head(1))"
   ]
  },
  {
   "cell_type": "code",
   "execution_count": 7,
   "metadata": {
    "tags": []
   },
   "outputs": [
    {
     "name": "stdout",
     "output_type": "stream",
     "text": [
      "Lowest:\n",
      "occupation\n",
      "student          22.081633\n",
      "none             26.555556\n",
      "entertainment    29.222222\n",
      "Name: age, dtype: float64\n",
      "\n",
      "Highest:\n",
      "occupation\n",
      "educator    42.010526\n",
      "doctor      43.571429\n",
      "retired     63.071429\n",
      "Name: age, dtype: float64\n"
     ]
    }
   ],
   "source": [
    "# Problem 5. Discover what is the mean age per occupation.\n",
    "# Sort the results and find the 3 occupations with the lowest mean age and the 3 with the highest\n",
    "mean_age = users.groupby('occupation')['age'].mean().sort_values()\n",
    "print(\"Lowest:\")\n",
    "print(mean_age.head(3))\n",
    "print(\"\\nHighest:\")\n",
    "print(mean_age.tail(3))"
   ]
  },
  {
   "cell_type": "code",
   "execution_count": 8,
   "metadata": {
    "tags": []
   },
   "outputs": [
    {
     "name": "stdout",
     "output_type": "stream",
     "text": [
      "occupation\n",
      "doctor           1.000000\n",
      "engineer         0.970149\n",
      "technician       0.962963\n",
      "retired          0.928571\n",
      "programmer       0.909091\n",
      "executive        0.906250\n",
      "scientist        0.903226\n",
      "entertainment    0.888889\n",
      "lawyer           0.833333\n",
      "salesman         0.750000\n",
      "educator         0.726316\n",
      "student          0.693878\n",
      "other            0.657143\n",
      "marketing        0.615385\n",
      "writer           0.577778\n",
      "none             0.555556\n",
      "administrator    0.544304\n",
      "artist           0.535714\n",
      "librarian        0.431373\n",
      "healthcare       0.312500\n",
      "homemaker        0.142857\n",
      "Name: male, dtype: float64\n"
     ]
    }
   ],
   "source": [
    "# Problem 6. Find the proportion of males by occupation and sort it from the most to the least\n",
    "male = users.copy()\n",
    "male['male'] = male['gender'] == \"M\"\n",
    "print(male.groupby('occupation')['male'].mean().sort_values(ascending = False))"
   ]
  },
  {
   "cell_type": "code",
   "execution_count": 9,
   "metadata": {
    "tags": []
   },
   "outputs": [
    {
     "name": "stdout",
     "output_type": "stream",
     "text": [
      "               min  max\n",
      "occupation             \n",
      "administrator   21   70\n",
      "artist          19   48\n",
      "doctor          28   64\n",
      "educator        23   63\n",
      "engineer        22   70\n",
      "entertainment   15   50\n",
      "executive       22   69\n",
      "healthcare      22   62\n",
      "homemaker       20   50\n",
      "lawyer          21   53\n",
      "librarian       23   69\n",
      "marketing       24   55\n",
      "none            11   55\n",
      "other           13   64\n",
      "programmer      20   63\n",
      "retired         51   73\n",
      "salesman        18   66\n",
      "scientist       23   55\n",
      "student          7   42\n",
      "technician      21   55\n",
      "writer          18   60\n"
     ]
    }
   ],
   "source": [
    "# Problem 7. For each occupation, calculate the minimum and maximum ages\n",
    "# See groupby and agg() to perform multiple aggregate functions at once\n",
    "print(users.groupby('occupation')['age'].agg(['min', 'max']))"
   ]
  },
  {
   "cell_type": "code",
   "execution_count": 10,
   "metadata": {
    "tags": []
   },
   "outputs": [
    {
     "name": "stdout",
     "output_type": "stream",
     "text": [
      "gender                 F          M\n",
      "occupation                         \n",
      "student        20.750000  22.669118\n",
      "salesman       27.000000  38.555556\n",
      "scientist      28.333333  36.321429\n",
      "engineer       29.500000  36.600000\n",
      "artist         30.307692  32.333333\n",
      "entertainment  31.000000  29.000000\n",
      "programmer     32.166667  33.216667\n",
      "homemaker      34.166667  23.000000\n",
      "other          35.472222  34.028986\n",
      "none           36.500000  18.600000\n",
      "marketing      37.200000  37.875000\n",
      "writer         37.631579  35.346154\n",
      "technician     38.000000  32.961538\n",
      "educator       39.115385  43.101449\n",
      "lawyer         39.500000  36.200000\n",
      "healthcare     39.818182  45.400000\n",
      "librarian      40.000000  40.000000\n",
      "administrator  40.638889  37.162791\n",
      "executive      44.000000  38.172414\n",
      "retired        70.000000  62.538462\n",
      "doctor               NaN  43.571429\n"
     ]
    }
   ],
   "source": [
    "# Problem 8. For each combination of occupation and gender, calculate the mean age.\n",
    "# Arrange the results in a table so each row is an occupation, and you have a \n",
    "# column of the average male age and another column with the average female age.\n",
    "# Sort the resulting table by Female mean age from least to greatest\n",
    "print(users.pivot_table(index = 'occupation', values = 'age', columns = 'gender', aggfunc = 'mean').sort_values('F'))"
   ]
  },
  {
   "cell_type": "code",
   "execution_count": 11,
   "metadata": {
    "tags": []
   },
   "outputs": [
    {
     "name": "stdout",
     "output_type": "stream",
     "text": [
      "gender            F      M\n",
      "occupation                \n",
      "administrator  36.0   43.0\n",
      "artist         13.0   15.0\n",
      "doctor          0.0    7.0\n",
      "educator       26.0   69.0\n",
      "engineer        2.0   65.0\n",
      "entertainment   2.0   16.0\n",
      "executive       3.0   29.0\n",
      "healthcare     11.0    5.0\n",
      "homemaker       6.0    1.0\n",
      "lawyer          2.0   10.0\n",
      "librarian      29.0   22.0\n",
      "marketing      10.0   16.0\n",
      "none            4.0    5.0\n",
      "other          36.0   69.0\n",
      "programmer      6.0   60.0\n",
      "retired         1.0   13.0\n",
      "salesman        3.0    9.0\n",
      "scientist       3.0   28.0\n",
      "student        60.0  136.0\n",
      "technician      1.0   26.0\n",
      "writer         19.0   26.0\n"
     ]
    }
   ],
   "source": [
    "# Problem 9. For each occupation find the count of women and men\n",
    "# Arrange the results in a table so each row is an occupation, similar to above\n",
    "print(users.pivot_table(values='age', index = 'occupation', columns = 'gender', aggfunc = 'count').fillna(0))"
   ]
  },
  {
   "cell_type": "code",
   "execution_count": 12,
   "metadata": {
    "tags": []
   },
   "outputs": [
    {
     "name": "stdout",
     "output_type": "stream",
     "text": [
      "gender           M_Prop    F_Prop\n",
      "occupation                       \n",
      "homemaker      0.142857  0.857143\n",
      "healthcare     0.312500  0.687500\n",
      "librarian      0.431373  0.568627\n",
      "artist         0.535714  0.464286\n",
      "administrator  0.544304  0.455696\n",
      "none           0.555556  0.444444\n",
      "writer         0.577778  0.422222\n",
      "marketing      0.615385  0.384615\n",
      "other          0.657143  0.342857\n",
      "student        0.693878  0.306122\n",
      "educator       0.726316  0.273684\n",
      "salesman       0.750000  0.250000\n",
      "lawyer         0.833333  0.166667\n",
      "entertainment  0.888889  0.111111\n",
      "scientist      0.903226  0.096774\n",
      "executive      0.906250  0.093750\n",
      "programmer     0.909091  0.090909\n",
      "retired        0.928571  0.071429\n",
      "technician     0.962963  0.037037\n",
      "engineer       0.970149  0.029851\n",
      "doctor         1.000000  0.000000\n"
     ]
    }
   ],
   "source": [
    "# Problem 10. Turn the counts above into proportions. e.g administrator 0.455696 0.544304\n",
    "# Arrange results in increasing order of proportion men\n",
    "counts = users.pivot_table(values='age', index = 'occupation', columns = 'gender', aggfunc = 'count').fillna(0)\n",
    "counts['M_Prop'] = counts['M'] / (counts['M'] + counts['F'])\n",
    "counts['F_Prop'] = counts['F'] / (counts['M'] + counts['F'])\n",
    "counts = counts.drop(columns = ['F', 'M']).sort_values('M_Prop')\n",
    "print(counts)"
   ]
  },
  {
   "cell_type": "code",
   "execution_count": 13,
   "metadata": {
    "tags": []
   },
   "outputs": [
    {
     "data": {
      "image/png": "[encoded data removed]",
      "text/plain": [
       "<Figure size 640x480 with 1 Axes>"
      ]
     },
     "metadata": {},
     "output_type": "display_data"
    }
   ],
   "source": [
    "# Create a stacked barchart showing the results above\n",
    "\n",
    "# alternative pandas command: counts.plot.bar(stacked = True, )\n",
    "counts.index\n",
    "plt.bar(counts.index, counts['M_Prop'], color='b')\n",
    "plt.bar(counts.index, counts['F_Prop'], bottom=counts['M_Prop'], color='m')\n",
    "plt.xticks(rotation = 90)\n",
    "plt.legend([\"Male Proportion\", \"Female Proportion\"])\n",
    "plt.show()"
   ]
  },
  {
   "cell_type": "code",
   "execution_count": 14,
   "metadata": {
    "tags": []
   },
   "outputs": [],
   "source": [
    "# Extract the first digit of each zip code \n",
    "# and create a new column called 'region' that maps the\n",
    "# first digit of the zip to new values using this dictionary:\n",
    "d = {'0': 'New England',\n",
    "'1': 'Mid-Atlantic',\n",
    "'2': 'Central East Coast',\n",
    "'3': 'The South',\n",
    "'4': 'Midwest',\n",
    "'5': 'Northern Great Plains',\n",
    "'6': 'Central Great Plains',\n",
    "'7': 'Southern Central',\n",
    "'8': 'Mountain Desert',\n",
    "'9': 'West Coast'} \n",
    "\n",
    "regional_users = users.copy()\n",
    "regional_users['region'] = regional_users['zip_code'].str[0].map(d)"
   ]
  },
  {
   "cell_type": "code",
   "execution_count": 15,
   "metadata": {
    "tags": []
   },
   "outputs": [
    {
     "name": "stdout",
     "output_type": "stream",
     "text": [
      "         age gender  occupation zip_code           region\n",
      "user_id                                                  \n",
      "1         24      M  technician    85711  Mountain Desert\n",
      "2         53      F       other    94043       West Coast\n",
      "3         23      M      writer    32067        The South\n",
      "4         24      M  technician    43537          Midwest\n",
      "5         33      F       other    15213     Mid-Atlantic\n"
     ]
    }
   ],
   "source": [
    "# print the first 5 rows of the result\n",
    "# postal codes that begin with a letter are actually Canadian but are missing the last digit. These rows can be ignored.\n",
    "\n",
    "print(regional_users.head())"
   ]
  },
  {
   "cell_type": "code",
   "execution_count": 16,
   "metadata": {
    "tags": []
   },
   "outputs": [
    {
     "name": "stdout",
     "output_type": "stream",
     "text": [
      "region\n",
      "Central East Coast       60.0\n",
      "Central Great Plains     59.5\n",
      "Mid-Atlantic             60.0\n",
      "Midwest                  69.0\n",
      "New England              65.0\n",
      "Northern Great Plains    61.0\n",
      "The South                73.0\n",
      "West Coast               60.5\n",
      "Name: age, dtype: float64\n"
     ]
    }
   ],
   "source": [
    "# for the occupation 'retired', find the mean age of each region\n",
    "\n",
    "print(regional_users[regional_users['occupation'] == \"retired\"].groupby('region')['age'].mean())"
   ]
  }
 ],
 "metadata": {
  "kernelspec": {
   "display_name": "Python 3 (ipykernel)",
   "language": "python",
   "name": "python3"
  },
  "language_info": {
   "codemirror_mode": {
    "name": "ipython",
    "version": 3
   },
   "file_extension": ".py",
   "mimetype": "text/x-python",
   "name": "python",
   "nbconvert_exporter": "python",
   "pygments_lexer": "ipython3",
   "version": "3.11.5"
  }
 },
 "nbformat": 4,
 "nbformat_minor": 4
}
